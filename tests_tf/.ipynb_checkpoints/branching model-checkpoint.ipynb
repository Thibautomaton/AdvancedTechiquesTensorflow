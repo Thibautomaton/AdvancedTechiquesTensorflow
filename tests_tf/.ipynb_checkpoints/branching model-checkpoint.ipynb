{
 "cells": [
  {
   "cell_type": "code",
   "execution_count": 1,
   "id": "7b67e392",
   "metadata": {},
   "outputs": [],
   "source": [
    "from tensorflow.keras.models import Model\n",
    "\n",
    "import tensorflow as tf\n",
    "\n",
    "from tensorflow.python.keras.utils.vis_utils import plot_model\n"
   ]
  },
  {
   "cell_type": "code",
   "execution_count": null,
   "id": "d693632b",
   "metadata": {},
   "outputs": [],
   "source": [
    "def base_network(with_input):\n",
    "    \n",
    "    x = tf.keras.layers.Dense(128, activation = tf.nn.relu)(with_input)\n",
    "    x = tf.keras.layers.Dense(20, activation = tf.nn.relu)(x)\n",
    "    return x"
   ]
  },
  {
   "cell_type": "code",
   "execution_count": 3,
   "id": "565e3a2c",
   "metadata": {},
   "outputs": [
    {
     "ename": "SyntaxError",
     "evalue": "positional argument follows keyword argument (900940838.py, line 2)",
     "output_type": "error",
     "traceback": [
      "\u001b[1;36m  Cell \u001b[1;32mIn[3], line 2\u001b[1;36m\u001b[0m\n\u001b[1;33m    input_a = tf.keras.Input(shape=28,28)\u001b[0m\n\u001b[1;37m                                        ^\u001b[0m\n\u001b[1;31mSyntaxError\u001b[0m\u001b[1;31m:\u001b[0m positional argument follows keyword argument\n"
     ]
    }
   ],
   "source": [
    "def build_model():\n",
    "    input_a = tf.keras.Input(shape=(28,28))\n",
    "    input_b = tf.keras.Input(shape=(28, 28))\n",
    "    \n",
    "    vec_output_a = base_network(input_a)\n",
    "    vec_ouput_b = base_network(input_b)\n",
    "    \n",
    "    output = tf.keras.layers.Lambda(vec_output_a/vec_output_b)\n",
    "    model = Model(inputs=[input_a, input_b], outputs=output)\n",
    "    return model"
   ]
  },
  {
   "cell_type": "code",
   "execution_count": null,
   "id": "0dd808ff",
   "metadata": {},
   "outputs": [],
   "source": []
  }
 ],
 "metadata": {
  "kernelspec": {
   "display_name": "Python 3 (ipykernel)",
   "language": "python",
   "name": "python3"
  },
  "language_info": {
   "codemirror_mode": {
    "name": "ipython",
    "version": 3
   },
   "file_extension": ".py",
   "mimetype": "text/x-python",
   "name": "python",
   "nbconvert_exporter": "python",
   "pygments_lexer": "ipython3",
   "version": "3.10.11"
  }
 },
 "nbformat": 4,
 "nbformat_minor": 5
}
